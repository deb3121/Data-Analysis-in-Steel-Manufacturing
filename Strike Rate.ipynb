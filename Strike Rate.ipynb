{
 "cells": [
  {
   "cell_type": "code",
   "execution_count": 2,
   "id": "c702e47e",
   "metadata": {},
   "outputs": [
    {
     "name": "stdout",
     "output_type": "stream",
     "text": [
      "Root Mean Squared Error (RMSE): 0.0022\n",
      "R-squared (R2) score: 0.3766\n",
      "Model hit rate: 85.15%\n",
      "Strike rate: 85.15%\n"
     ]
    }
   ],
   "source": [
    "import pandas as pd\n",
    "from sklearn.linear_model import LinearRegression\n",
    "from sklearn.model_selection import train_test_split\n",
    "from sklearn.metrics import mean_squared_error, r2_score\n",
    "\n",
    "# Load the dataset\n",
    "dataset = pd.read_csv('DSDataLastThreeMonths.csv')\n",
    "\n",
    "# Select relevant columns for the model\n",
    "selected_columns = ['HM_WT', 'AIM_S', 'HM_S', 'HM_C', 'HM_SI', 'HM_TI', 'HM_MN', \n",
    "                    'CAC2', 'MG', 'HM_TEMP', 'CAC2_INJ_TIME', 'MG_INJ_TIME', 'DS_S']\n",
    "\n",
    "dataset = dataset[selected_columns]\n",
    "\n",
    "# Drop rows with missing values in both X and y\n",
    "dataset = dataset.dropna()\n",
    "\n",
    "# Split the dataset into input features (X) and target variable (y)\n",
    "X = dataset.drop('DS_S', axis=1)\n",
    "y = dataset['DS_S']\n",
    "\n",
    "# Split the dataset into training and testing sets\n",
    "X_train, X_test, y_train, y_test = train_test_split(X, y, test_size=0.2, random_state=42)\n",
    "\n",
    "# Create a linear regression model\n",
    "model = LinearRegression()\n",
    "\n",
    "# Train the model\n",
    "model.fit(X_train, y_train)\n",
    "\n",
    "# Make predictions on the test set\n",
    "y_pred = model.predict(X_test)\n",
    "\n",
    "# Calculate the Root Mean Squared Error (RMSE)\n",
    "rmse = mean_squared_error(y_test, y_pred, squared=False)\n",
    "\n",
    "# Calculate the R-squared (R2) score\n",
    "r2 = r2_score(y_test, y_pred)\n",
    "\n",
    "# Calculate the Model hit rate (% data point with (Pred DS_S – Act DS_S) between +- 0.003%)\n",
    "tolerance = 0.003\n",
    "within_tolerance = abs(y_pred - y_test) <= tolerance\n",
    "hit_rate = (within_tolerance.sum() / len(y_test)) * 100\n",
    "\n",
    "# Calculate the Strike rate (percentage of hits within the tolerance range)\n",
    "strike_rate = (within_tolerance.sum() / len(y_pred)) * 100\n",
    "\n",
    "# Share summary of the model's performance\n",
    "print(f\"Root Mean Squared Error (RMSE): {rmse:.4f}\")\n",
    "print(f\"R-squared (R2) score: {r2:.4f}\")\n",
    "print(f\"Model hit rate: {hit_rate:.2f}%\")\n",
    "print(f\"Strike rate: {strike_rate:.2f}%\")"
   ]
  },
  {
   "cell_type": "code",
   "execution_count": null,
   "id": "540bab8c",
   "metadata": {},
   "outputs": [],
   "source": []
  }
 ],
 "metadata": {
  "kernelspec": {
   "display_name": "Python 3 (ipykernel)",
   "language": "python",
   "name": "python3"
  },
  "language_info": {
   "codemirror_mode": {
    "name": "ipython",
    "version": 3
   },
   "file_extension": ".py",
   "mimetype": "text/x-python",
   "name": "python",
   "nbconvert_exporter": "python",
   "pygments_lexer": "ipython3",
   "version": "3.11.3"
  }
 },
 "nbformat": 4,
 "nbformat_minor": 5
}
